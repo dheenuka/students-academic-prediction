{
  "nbformat": 4,
  "nbformat_minor": 0,
  "metadata": {
    "colab": {
      "name": "students academic prediction.ipynb",
      "provenance": [],
      "collapsed_sections": []
    },
    "kernelspec": {
      "display_name": "Python 3",
      "name": "python3"
    }
  },
  "cells": [
    {
      "cell_type": "code",
      "metadata": {
        "id": "x8zN8-ZH2RJz"
      },
      "source": [
        "import pandas as pd\n",
        "import seaborn as sns\n",
        "import matplotlib.pyplot as plt\n",
        "%matplotlib inline\n",
        "import numpy as np\n",
        "import matplotlib.pyplot as plt"
      ],
      "execution_count": null,
      "outputs": []
    },
    {
      "cell_type": "code",
      "metadata": {
        "id": "U1xU3V4h2oVp"
      },
      "source": [
        "pdf_maths=pd.read_csv('student-mat.csv',sep=';')"
      ],
      "execution_count": null,
      "outputs": []
    },
    {
      "cell_type": "code",
      "metadata": {
        "id": "qvuC6cd53MFb"
      },
      "source": [
        "def performance(value):\n",
        "    if value< 33.5:\n",
        "        return 'Below cut-off'\n",
        "    else:\n",
        "        return 'Above cut-off'"
      ],
      "execution_count": null,
      "outputs": []
    },
    {
      "cell_type": "code",
      "metadata": {
        "id": "Z8uSL3hJ3sJO"
      },
      "source": [
        "pdf_maths['total']=pdf_maths['G1']+pdf_maths['G2']+pdf_maths['G3']\n",
        "pdf_maths['Performance']=pdf_maths['total'].apply(performance)"
      ],
      "execution_count": null,
      "outputs": []
    },
    {
      "cell_type": "code",
      "metadata": {
        "id": "pjcyAqDm30C4"
      },
      "source": [
        "sns.heatmap(pdf_maths.isnull(),yticklabels=False,cbar=False,cmap='viridis')\n",
        "plt.title('Heat Map for detecting Null/Missing Values')\n",
        "plt.savefig('math_null.jpg')"
      ],
      "execution_count": null,
      "outputs": []
    },
    {
      "cell_type": "code",
      "metadata": {
        "colab": {
          "base_uri": "https://localhost:8080/",
          "height": 280
        },
        "id": "Z7Ep1tFj4Kxe",
        "outputId": "44f9c2c4-9c4c-478f-dca4-c14acc1170f5"
      },
      "source": [
        "sns.barplot(x='school',y='total',data=pdf_maths)\n",
        "plt.savefig('math_school.jpg')"
      ],
      "execution_count": null,
      "outputs": [
        {
          "output_type": "display_data",
          "data": {
            "image/png": "[encoded data removed]",
            "text/plain": [
              "<Figure size 432x288 with 1 Axes>"
            ]
          },
          "metadata": {
            "tags": [],
            "needs_background": "light"
          }
        }
      ]
    },
    {
      "cell_type": "code",
      "metadata": {
        "colab": {
          "base_uri": "https://localhost:8080/",
          "height": 278
        },
        "id": "jQJ_wses4SEN",
        "outputId": "8e2b2108-2db7-4839-acb2-b0bd87a572e8"
      },
      "source": [
        "sns.barplot(x='sex',y='total',data=pdf_maths)\n",
        "plt.savefig('math_sex.jpg')"
      ],
      "execution_count": null,
      "outputs": [
        {
          "output_type": "display_data",
          "data": {
            "image/png": "[encoded data removed]",
            "text/plain": [
              "<Figure size 432x288 with 1 Axes>"
            ]
          },
          "metadata": {
            "tags": [],
            "needs_background": "light"
          }
        }
      ]
    },
    {
      "cell_type": "code",
      "metadata": {
        "colab": {
          "base_uri": "https://localhost:8080/",
          "height": 278
        },
        "id": "utvxel4b4X2a",
        "outputId": "32f71a75-3139-46a8-8d93-a2c4747b88f6"
      },
      "source": [
        "sns.countplot(x='failures',hue='Performance',data=pdf_maths)\n",
        "plt.savefig('math_perf_fail.jpg')"
      ],
      "execution_count": null,
      "outputs": [
        {
          "output_type": "display_data",
          "data": {
            "image/png": "[encoded data removed]",
            "text/plain": [
              "<Figure size 432x288 with 1 Axes>"
            ]
          },
          "metadata": {
            "tags": [],
            "needs_background": "light"
          }
        }
      ]
    },
    {
      "cell_type": "code",
      "metadata": {
        "colab": {
          "base_uri": "https://localhost:8080/",
          "height": 281
        },
        "id": "rXqNB0H24bsP",
        "outputId": "c7873b38-9b5b-4c3b-9928-772b06bcb9a6"
      },
      "source": [
        "sns.boxplot(x=\"higher\", y=\"total\", data=pdf_maths,palette='rainbow')\n",
        "plt.savefig('math_total_high.jpg')"
      ],
      "execution_count": null,
      "outputs": [
        {
          "output_type": "display_data",
          "data": {
            "image/png": "[encoded data removed]",
            "text/plain": [
              "<Figure size 432x288 with 1 Axes>"
            ]
          },
          "metadata": {
            "tags": [],
            "needs_background": "light"
          }
        }
      ]
    },
    {
      "cell_type": "code",
      "metadata": {
        "colab": {
          "base_uri": "https://localhost:8080/",
          "height": 278
        },
        "id": "d-5YBH3h4mqH",
        "outputId": "ea423168-5fb9-437e-edf9-52d1f7221669"
      },
      "source": [
        "sns.countplot(x='freetime',hue='Performance',data=pdf_maths)\n",
        "plt.savefig('math_freetime.jpg')"
      ],
      "execution_count": null,
      "outputs": [
        {
          "output_type": "display_data",
          "data": {
            "image/png": "[encoded data removed]",
            "text/plain": [
              "<Figure size 432x288 with 1 Axes>"
            ]
          },
          "metadata": {
            "tags": [],
            "needs_background": "light"
          }
        }
      ]
    },
    {
      "cell_type": "code",
      "metadata": {
        "colab": {
          "base_uri": "https://localhost:8080/",
          "height": 282
        },
        "id": "vTZ7umaJ4rZM",
        "outputId": "db06999c-4ccc-41a4-9947-9f7b4ea0ef60"
      },
      "source": [
        "sns.countplot(x='goout',hue='Performance',data=pdf_maths)\n",
        "plt.savefig('math_perf_goout.jpg')"
      ],
      "execution_count": null,
      "outputs": [
        {
          "output_type": "display_data",
          "data": {
            "image/png": "[encoded data removed]",
            "text/plain": [
              "<Figure size 432x288 with 1 Axes>"
            ]
          },
          "metadata": {
            "tags": [],
            "needs_background": "light"
          }
        }
      ]
    },
    {
      "cell_type": "code",
      "metadata": {
        "colab": {
          "base_uri": "https://localhost:8080/",
          "height": 278
        },
        "id": "rE50RPxg448a",
        "outputId": "975c18f8-f688-4b26-d977-cb5813661b87"
      },
      "source": [
        "sns.countplot(x='schoolsup',hue='Performance',data=pdf_maths)\n",
        "plt.savefig('math_ssp.jpg')"
      ],
      "execution_count": null,
      "outputs": [
        {
          "output_type": "display_data",
          "data": {
            "image/png": "[encoded data removed]",
            "text/plain": [
              "<Figure size 432x288 with 1 Axes>"
            ]
          },
          "metadata": {
            "tags": [],
            "needs_background": "light"
          }
        }
      ]
    },
    {
      "cell_type": "code",
      "metadata": {
        "colab": {
          "base_uri": "https://localhost:8080/",
          "height": 268
        },
        "id": "zNPnlbo9471E",
        "outputId": "d285ad23-9cef-48a0-d4ec-96d0887beaa8"
      },
      "source": [
        "sns.heatmap(pdf_maths[['G1','G2','G3','absences','age']].corr(),annot=True)\n",
        "plt.savefig('math_correlation.jpg')"
      ],
      "execution_count": null,
      "outputs": [
        {
          "output_type": "display_data",
          "data": {
            "image/png": "[encoded data removed]",
            "text/plain": [
              "<Figure size 432x288 with 2 Axes>"
            ]
          },
          "metadata": {
            "tags": [],
            "needs_background": "light"
          }
        }
      ]
    },
    {
      "cell_type": "code",
      "metadata": {
        "colab": {
          "base_uri": "https://localhost:8080/",
          "height": 334
        },
        "id": "VT2tx78s5HsP",
        "outputId": "20461e82-8327-4342-e511-f9ebbb62e2db"
      },
      "source": [
        "sns.distplot(pdf_maths['total'],kde=False,bins=20)\n",
        "plt.xlabel='total'\n",
        "plt.savefig('math_total_hist.jpg')"
      ],
      "execution_count": null,
      "outputs": [
        {
          "output_type": "stream",
          "text": [
            "/usr/local/lib/python3.7/dist-packages/seaborn/distributions.py:2557: FutureWarning: `distplot` is a deprecated function and will be removed in a future version. Please adapt your code to use either `displot` (a figure-level function with similar flexibility) or `histplot` (an axes-level function for histograms).\n",
            "  warnings.warn(msg, FutureWarning)\n"
          ],
          "name": "stderr"
        },
        {
          "output_type": "display_data",
          "data": {
            "image/png": "[encoded data removed]",
            "text/plain": [
              "<Figure size 432x288 with 1 Axes>"
            ]
          },
          "metadata": {
            "tags": [],
            "needs_background": "light"
          }
        }
      ]
    },
    {
      "cell_type": "code",
      "metadata": {
        "id": "6Sh_ZK5C5S8V"
      },
      "source": [
        "sch=pd.get_dummies(pdf_maths['school'],drop_first=True,prefix='school')\n",
        "address=pd.get_dummies(pdf_maths['address'],drop_first=True,prefix='address')\n",
        "fail=pd.get_dummies(pdf_maths['failures'],drop_first=True,prefix='fail')\n",
        "high=pd.get_dummies(pdf_maths['higher'],drop_first=True,prefix='high')\n",
        "ssp=pd.get_dummies(pdf_maths['schoolsup'],drop_first=True,prefix='SSP')\n",
        "guard=pd.get_dummies(pdf_maths['guardian'],drop_first=True,prefix='Guard')\n",
        "act=pd.get_dummies(pdf_maths['activities'],drop_first=True,prefix='Activity')\n",
        "fedu=pd.get_dummies(pdf_maths['Fedu'],drop_first=True,prefix='Fedu')\n",
        "medu=pd.get_dummies(pdf_maths['Medu'],drop_first=True,prefix='Medu')\n",
        "stdtime=pd.get_dummies(pdf_maths['studytime'],drop_first=True,prefix='studytime')\n",
        "GT3=pd.get_dummies(pdf_maths['famsize'],drop_first=True,prefix='famsize')\n",
        "Pstatus_apart=pd.get_dummies(pdf_maths['Pstatus'],drop_first=True,prefix='Pstatus')\n",
        "medu=pd.get_dummies(pdf_maths['Medu'],drop_first=True,prefix='Medu')\n",
        "Mjob=pd.get_dummies(pdf_maths['Mjob'],drop_first=True,prefix='Mjob')\n",
        "Fjob=pd.get_dummies(pdf_maths['Fjob'],drop_first=True,prefix='Fjob')\n",
        "reason=pd.get_dummies(pdf_maths['reason'],drop_first=True,prefix='reason')\n",
        "traveltime=pd.get_dummies(pdf_maths['traveltime'],drop_first=True,prefix='traveltime')\n",
        "famsup=pd.get_dummies(pdf_maths['famsup'],drop_first=True,prefix='famsup')\n",
        "paid=pd.get_dummies(pdf_maths['paid'],drop_first=True,prefix='paid')\n",
        "nurs=pd.get_dummies(pdf_maths['nursery'],drop_first=True,prefix='nursery')\n",
        "internet=pd.get_dummies(pdf_maths['internet'],drop_first=True,prefix='internet')\n",
        "romantic=pd.get_dummies(pdf_maths['romantic'],drop_first=True,prefix='romantic')\n",
        "famrel=pd.get_dummies(pdf_maths['famrel'],drop_first=True,prefix='famrel')\n",
        "freetime=pd.get_dummies(pdf_maths['freetime'],drop_first=True,prefix='freetime')\n",
        "goout=pd.get_dummies(pdf_maths['goout'],drop_first=True,prefix='goout')\n",
        "Dalc=pd.get_dummies(pdf_maths['Dalc'],drop_first=True,prefix='Dalc')\n",
        "Walc=pd.get_dummies(pdf_maths['Walc'],drop_first=True,prefix='Walc')\n",
        "sex=pd.get_dummies(pdf_maths['sex'],drop_first=True,prefix='sex')\n",
        "health=pd.get_dummies(pdf_maths['health'],drop_first=True,prefix='health')"
      ],
      "execution_count": null,
      "outputs": []
    },
    {
      "cell_type": "code",
      "metadata": {
        "id": "hwAj2QSW5s87"
      },
      "source": [
        "#Complete Data\n",
        "df_cont=pdf_maths[['age','absences','Performance']]\n",
        "df_complete=pd.concat([df_cont,sch,address,fail,high,ssp,guard,act,fedu,stdtime,GT3,Pstatus_apart,medu,Mjob,Fjob],axis=1)\n",
        "df_complete=pd.concat([df_complete,reason,traveltime,famsup,paid,nurs,internet,romantic,famrel,freetime,goout,Dalc,Walc,health],axis=1)"
      ],
      "execution_count": null,
      "outputs": []
    },
    {
      "cell_type": "code",
      "metadata": {
        "colab": {
          "base_uri": "https://localhost:8080/"
        },
        "id": "OOIiamor6Vwv",
        "outputId": "30440515-42f3-46cf-8435-26eb1c3883bd"
      },
      "source": [
        "!pip install sklearn"
      ],
      "execution_count": null,
      "outputs": [
        {
          "output_type": "stream",
          "text": [
            "Requirement already satisfied: sklearn in /usr/local/lib/python3.7/dist-packages (0.0)\n",
            "Requirement already satisfied: scikit-learn in /usr/local/lib/python3.7/dist-packages (from sklearn) (0.22.2.post1)\n",
            "Requirement already satisfied: numpy>=1.11.0 in /usr/local/lib/python3.7/dist-packages (from scikit-learn->sklearn) (1.19.5)\n",
            "Requirement already satisfied: joblib>=0.11 in /usr/local/lib/python3.7/dist-packages (from scikit-learn->sklearn) (1.0.1)\n",
            "Requirement already satisfied: scipy>=0.17.0 in /usr/local/lib/python3.7/dist-packages (from scikit-learn->sklearn) (1.4.1)\n"
          ],
          "name": "stdout"
        }
      ]
    },
    {
      "cell_type": "code",
      "metadata": {
        "id": "r4tv1dwi50CU"
      },
      "source": [
        "#Crossvalidation\n",
        "from sklearn.model_selection import train_test_split\n",
        "from sklearn.metrics import classification_report,confusion_matrix\n",
        "from sklearn.linear_model import LogisticRegression\n",
        "from sklearn.ensemble import RandomForestClassifier"
      ],
      "execution_count": null,
      "outputs": []
    },
    {
      "cell_type": "code",
      "metadata": {
        "colab": {
          "base_uri": "https://localhost:8080/"
        },
        "id": "5rwuwXGF9Tnf",
        "outputId": "db147c6e-9a9a-40ee-e005-7f649cc7a5d2"
      },
      "source": [
        "#Logistic with feature selection - better results\n",
        "df_log=pd.concat([freetime,ssp,pdf_maths['age'],pdf_maths['Performance']],axis=1)\n",
        "X=df_log.drop(['Performance'],axis=1)\n",
        "Y=df_log['Performance']\n",
        "X_train,X_test,y_train,y_test=train_test_split(X,Y,test_size=0.3,random_state=1010)\n",
        "lg=LogisticRegression(random_state=1001)\n",
        "lg.fit(X_train,y_train)\n",
        "predictions=lg.predict(X_test)\n",
        "print(classification_report(y_test,predictions))"
      ],
      "execution_count": null,
      "outputs": [
        {
          "output_type": "stream",
          "text": [
            "               precision    recall  f1-score   support\n",
            "\n",
            "Above cut-off       0.71      0.31      0.43        55\n",
            "Below cut-off       0.60      0.89      0.72        64\n",
            "\n",
            "     accuracy                           0.62       119\n",
            "    macro avg       0.65      0.60      0.57       119\n",
            " weighted avg       0.65      0.62      0.58       119\n",
            "\n"
          ],
          "name": "stdout"
        }
      ]
    },
    {
      "cell_type": "code",
      "metadata": {
        "id": "QsPWO0679fm9"
      },
      "source": [
        "#Training and Testing data for RF and Full Logistic \n",
        "X=df_complete.drop(['Performance'],axis=1)\n",
        "Y=df_complete['Performance']\n",
        "X_train,X_test,y_train,y_test=train_test_split(X,Y,test_size=0.3,random_state=1010)"
      ],
      "execution_count": null,
      "outputs": []
    },
    {
      "cell_type": "code",
      "metadata": {
        "colab": {
          "base_uri": "https://localhost:8080/"
        },
        "id": "3QhiRxkr9272",
        "outputId": "ad3a68c5-b9f0-423f-c043-c3819ea04c86"
      },
      "source": [
        "#Logistic Regression\n",
        "lg=LogisticRegression()\n",
        "lg.fit(X_train,y_train)\n",
        "predict=lg.predict(X_test)\n",
        "print(classification_report(y_test,predict))"
      ],
      "execution_count": null,
      "outputs": [
        {
          "output_type": "stream",
          "text": [
            "               precision    recall  f1-score   support\n",
            "\n",
            "Above cut-off       0.68      0.58      0.63        55\n",
            "Below cut-off       0.68      0.77      0.72        64\n",
            "\n",
            "     accuracy                           0.68       119\n",
            "    macro avg       0.68      0.67      0.67       119\n",
            " weighted avg       0.68      0.68      0.68       119\n",
            "\n"
          ],
          "name": "stdout"
        },
        {
          "output_type": "stream",
          "text": [
            "/usr/local/lib/python3.7/dist-packages/sklearn/linear_model/_logistic.py:940: ConvergenceWarning: lbfgs failed to converge (status=1):\n",
            "STOP: TOTAL NO. of ITERATIONS REACHED LIMIT.\n",
            "\n",
            "Increase the number of iterations (max_iter) or scale the data as shown in:\n",
            "    https://scikit-learn.org/stable/modules/preprocessing.html\n",
            "Please also refer to the documentation for alternative solver options:\n",
            "    https://scikit-learn.org/stable/modules/linear_model.html#logistic-regression\n",
            "  extra_warning_msg=_LOGISTIC_SOLVER_CONVERGENCE_MSG)\n"
          ],
          "name": "stderr"
        }
      ]
    },
    {
      "cell_type": "code",
      "metadata": {
        "colab": {
          "base_uri": "https://localhost:8080/"
        },
        "id": "rJji7ZRD-cfd",
        "outputId": "6b88d0b4-c188-4d93-c5d3-bd02f16681c1"
      },
      "source": [
        "#Random Forest\n",
        "\n",
        "rfc=RandomForestClassifier(n_estimators=199,max_features=2,random_state=1010)\n",
        "rfc.fit(X_train,y_train)\n",
        "predictions=rfc.predict(X_test)\n",
        "print(classification_report(y_test,predictions))"
      ],
      "execution_count": null,
      "outputs": [
        {
          "output_type": "stream",
          "text": [
            "               precision    recall  f1-score   support\n",
            "\n",
            "Above cut-off       0.63      0.47      0.54        55\n",
            "Below cut-off       0.63      0.77      0.69        64\n",
            "\n",
            "     accuracy                           0.63       119\n",
            "    macro avg       0.63      0.62      0.62       119\n",
            " weighted avg       0.63      0.63      0.62       119\n",
            "\n"
          ],
          "name": "stdout"
        }
      ]
    },
    {
      "cell_type": "code",
      "metadata": {
        "id": "2KVbQ3SO-n59",
        "colab": {
          "base_uri": "https://localhost:8080/"
        },
        "outputId": "822ee77e-94f0-43d5-d42a-52320665d0a1"
      },
      "source": [
        "#Optimizing Random FOrest\n",
        "for n in range(51,151): \n",
        "    for i in range(2,7):\n",
        "        rfc=RandomForestClassifier(n_estimators=n,max_features=i,random_state=1001)\n",
        "        rfc.fit(X_train,y_train)\n",
        "        pred=rfc.predict(X_test)\n",
        "        y_test=np.array(y_test)\n",
        "        acc=np.sum((y_test==pred)& (y_test=='Above cut-off'))\n",
        "        if(acc>30):\n",
        "            print(n,i)\n",
        "            print(acc)"
      ],
      "execution_count": null,
      "outputs": [
        {
          "output_type": "stream",
          "text": [
            "52 3\n",
            "31\n",
            "52 4\n",
            "31\n",
            "54 4\n",
            "31\n",
            "56 3\n",
            "31\n"
          ],
          "name": "stdout"
        }
      ]
    },
    {
      "cell_type": "code",
      "metadata": {
        "colab": {
          "base_uri": "https://localhost:8080/"
        },
        "id": "cWL7cXR1-40G",
        "outputId": "1c12bfcb-3dba-4d91-bbca-6dcb9bb36753"
      },
      "source": [
        "#Random Forest Best\n",
        "rfc=RandomForestClassifier(n_estimators=52,max_features=3,random_state=1001)\n",
        "rfc.fit(X_train,y_train)\n",
        "pred=rfc.predict(X_test)\n",
        "y_test=np.array(y_test)\n",
        "print(classification_report(y_test, rfc.predict(X_test)))"
      ],
      "execution_count": null,
      "outputs": [
        {
          "output_type": "stream",
          "text": [
            "               precision    recall  f1-score   support\n",
            "\n",
            "Above cut-off       0.70      0.56      0.63        55\n",
            "Below cut-off       0.68      0.80      0.73        64\n",
            "\n",
            "     accuracy                           0.69       119\n",
            "    macro avg       0.69      0.68      0.68       119\n",
            " weighted avg       0.69      0.69      0.68       119\n",
            "\n"
          ],
          "name": "stdout"
        }
      ]
    }
  ]
}